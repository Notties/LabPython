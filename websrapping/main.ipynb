{
 "cells": [
  {
   "cell_type": "code",
   "execution_count": 1,
   "metadata": {},
   "outputs": [],
   "source": [
    "import pandas as pd\n",
    "import pprint\n",
    "import time\n",
    "import re\n",
    "import time\n",
    "\n",
    "from selenium import webdriver\n",
    "from selenium.webdriver.chrome.options import Options\n",
    "from selenium.webdriver.common.keys import Keys\n",
    "from selenium.webdriver.support.ui import WebDriverWait\n",
    "from selenium.webdriver.support import expected_conditions as EC\n",
    "from selenium.common.exceptions import TimeoutException\n",
    "from selenium.common.exceptions import NoSuchElementException\n",
    "from selenium.webdriver.common.by import By\n",
    "from bs4 import BeautifulSoup"
   ]
  },
  {
   "cell_type": "code",
   "execution_count": 47,
   "metadata": {},
   "outputs": [],
   "source": [
    "# https://www.cosmenet.in.th/\n",
    "driver = webdriver.Chrome(executable_path='chromedriver')\n",
    "# driver.get(\"https://www.cosmenet.in.th/reviews/27779\")\n",
    "driver.get(\"https://www.cosmenet.in.th/product/47031/bsc-hya-hemp-seed-oil-serum\")\n"
   ]
  },
  {
   "cell_type": "code",
   "execution_count": 48,
   "metadata": {},
   "outputs": [],
   "source": [
    "element_review = driver.find_element(By.XPATH, \"/html/body/app-root/div/div/app-product-detail/div/div[2]/div/div[1]/div/div[2]/div\")\n",
    "driver.execute_script(\"arguments[0].click();\", element_review)"
   ]
  },
  {
   "cell_type": "code",
   "execution_count": 49,
   "metadata": {},
   "outputs": [],
   "source": [
    "# Find the <a> element\n",
    "element = driver.find_element(By.XPATH, \"//a[@class='btn btn-pink2']\")\n",
    "\n",
    "# Get the href attribute value\n",
    "href = element.get_attribute('href')\n",
    "\n",
    "# Navigate the driver to the href link\n",
    "driver.get(href)"
   ]
  },
  {
   "cell_type": "code",
   "execution_count": 50,
   "metadata": {},
   "outputs": [],
   "source": [
    "review_csv=[]"
   ]
  },
  {
   "cell_type": "code",
   "execution_count": 51,
   "metadata": {},
   "outputs": [
    {
     "name": "stdout",
     "output_type": "stream",
     "text": [
      "['เรื่องคะแนนความผิวชุ่มฉ่ำทันทีที่ใช้ให้เต็มห้าดาวไปเลย\\nแต่ด้วยสภาพผิวที่ค่อนข้างมันเป็นทุนเดิม ทำให้ต้องยกไปใช้แค่ช่วงกลางคืน', ':: แพคเกจ / เนื้อสัมผัส / กลิ่น ::\\n- ขวดจะเป็นแพคเกจหัวดรอปเปอร์\\n- เนื้อเซรั่มตัวนี้ตอนเกลี่ยจะให้ความชุ่มชื้น โกลว์กับผิว แต่ก็เนื้อบางเบาซึมไวนะ มีเม็ดบีสท์สีเขียวในเนื้อเซรั่มด้วย\\n- กลิ่นเค้าก็จะเป็น กลิ่น Terpene ที่ช่วยปรับอารมณ์ให้ผิวผ่อนคลายเหมือนกับเซรั่ม CBD เลยค่า แต่ในความคิดเจนแอบรู้สึกว่าตัวนี้กลิ่นเบากว่านะ > <\\n\\n:: ผลลัพธ์หลังใช้ ::\\nหลังจากที่ลองใช้เซรั่ม BSC Hya Hemp Seed Oil Serum เนื้อสัมผัสเค้าจะให้ความโกลว์กับผิวหลังทามากกว่าตัวเซรั่ม CBD ค่ะ แต่อาจจะใช้เวลาซึมเข้าสู่ผิวมากกว่าเซรั่ม CBD แค่นิ้ดดดเดียว ถึงจะขึ้นชื่อว่าเป็น Oil Serum แต่เนื้อสัมผัสเค้าบางเบา ไม่เหนอะหนะผิวเลย ไม่รู้สึกว่าเป็นน้ำมันอ่ะ เจนปกติไม่ค่อยใช้ Oil Serum แต่พอลองตัวนี้แล้วคือใช้ได้เช้า-เย็นสบายๆ เลยค่า ชอบตรงที่ทาเซรั่มตัวนี้ก็คือปลุกพลังผิวให้ตื่นขึ้นเลย ผิวชุ่มชื้น ดูอิ่มน้ำขึ้นทันที ผิวดูสดใสโกลว์แบบสุขภาพดี ใครก็จับไม่ได้ค่ะว่านอนน้อยแต่นอนนะ 😂']\n"
     ]
    }
   ],
   "source": [
    "# Scroll to the bottom of the page\n",
    "driver.execute_script(\"window.scrollTo(0, document.body.scrollHeight);\")\n",
    "time.sleep(2)  # Wait for the page to load the new comments\n",
    "\n",
    "# Extract comments\n",
    "comment_elements = driver.find_elements(By.XPATH, \"//div[contains(@class, 'review-comment')]//div[contains(@class, 'comment')]\")\n",
    "comments = []\n",
    "\n",
    "for comment_element in comment_elements:\n",
    "    comment = comment_element.text\n",
    "    comments.append(comment)\n",
    "\n",
    "# Scroll and load more comments until all comments are loaded\n",
    "while True:\n",
    "    # Scroll to the bottom of the page\n",
    "    driver.execute_script(\"window.scrollTo(0, document.body.scrollHeight);\")\n",
    "    time.sleep(2)  # Wait for the page to load the new comments\n",
    "\n",
    "    # Check if new comments are loaded\n",
    "    new_comment_elements = driver.find_elements(By.XPATH, \"//div[contains(@class, 'review-comment')]//div[contains(@class, 'comment')]\")\n",
    "    if len(new_comment_elements) == len(comment_elements):\n",
    "        break  # No new comments loaded, exit the loop\n",
    "\n",
    "    # Update comment_elements and extract new comments\n",
    "    comment_elements = new_comment_elements\n",
    "    for comment_element in comment_elements[len(comments):]:\n",
    "        comment = comment_element.text\n",
    "        comments.append(comment)\n",
    "\n",
    "print(comments[:2])"
   ]
  },
  {
   "cell_type": "code",
   "execution_count": 53,
   "metadata": {},
   "outputs": [
    {
     "name": "stdout",
     "output_type": "stream",
     "text": [
      "Comments exported to comments.csv\n"
     ]
    }
   ],
   "source": [
    "# Create a DataFrame from the comments list\n",
    "df = pd.DataFrame({'Comment': comments})\n",
    "\n",
    "# Specify the CSV file path\n",
    "csv_file = 'comments.csv'\n",
    "\n",
    "# Export the DataFrame to CSV\n",
    "df.to_csv(csv_file, index=False, encoding='utf-8')\n",
    "\n",
    "print(\"Comments exported to\", csv_file)"
   ]
  }
 ],
 "metadata": {
  "kernelspec": {
   "display_name": "Python 3",
   "language": "python",
   "name": "python3"
  },
  "language_info": {
   "codemirror_mode": {
    "name": "ipython",
    "version": 3
   },
   "file_extension": ".py",
   "mimetype": "text/x-python",
   "name": "python",
   "nbconvert_exporter": "python",
   "pygments_lexer": "ipython3",
   "version": "3.11.1"
  },
  "orig_nbformat": 4
 },
 "nbformat": 4,
 "nbformat_minor": 2
}
