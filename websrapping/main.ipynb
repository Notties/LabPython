{
 "cells": [
  {
   "cell_type": "code",
   "execution_count": 66,
   "metadata": {},
   "outputs": [],
   "source": [
    "import pandas as pd\n",
    "import pprint\n",
    "import time\n",
    "import re\n",
    "import time\n",
    "\n",
    "from selenium import webdriver\n",
    "from selenium.webdriver.chrome.options import Options\n",
    "from selenium.webdriver.common.keys import Keys\n",
    "from selenium.webdriver.support.ui import WebDriverWait\n",
    "from selenium.webdriver.support import expected_conditions as EC\n",
    "from selenium.common.exceptions import TimeoutException\n",
    "from selenium.common.exceptions import NoSuchElementException\n",
    "from selenium.webdriver.common.by import By\n",
    "from bs4 import BeautifulSoup"
   ]
  },
  {
   "cell_type": "code",
   "execution_count": 67,
   "metadata": {},
   "outputs": [],
   "source": [
    "# https://www.cosmenet.in.th/\n",
    "driver = webdriver.Chrome(executable_path='chromedriver')\n",
    "driver.get(\"https://www.cosmenet.in.th/reviews/27779\")"
   ]
  },
  {
   "cell_type": "code",
   "execution_count": 62,
   "metadata": {},
   "outputs": [],
   "source": [
    "review_csv=[]"
   ]
  },
  {
   "cell_type": "code",
   "execution_count": 69,
   "metadata": {},
   "outputs": [
    {
     "name": "stdout",
     "output_type": "stream",
     "text": [
      "['น้ำแร่ฉีดพ่นบำรุงผิว เพิ่มความชุ่มชื้นได้ดี มีกลิ่นหอม ถ้าไม่แพ้น้ำหอมก็โอเคใช้ได้ ส่วนใครที่ผิวแพ้ง่ายก็ควรทดสอบก่อนใช้', 'ใช้ดีมาก ฉีดก่อนหรือหลังแต่งหน้า ผิวชุ่มชื้นก่อนแต่งหน้าทำให้แต่งหน้าติดทน หลังแต่งหน้าก็ช่วยล็อคผิวให้อยู่ได้นานขึ้น กลิ่นหอมสดชื่น แต่ละอองจากหัวสเปรย์ใหญ่ไปหน่อย']\n"
     ]
    }
   ],
   "source": [
    "# Scroll to the bottom of the page\n",
    "driver.execute_script(\"window.scrollTo(0, document.body.scrollHeight);\")\n",
    "time.sleep(2)  # Wait for the page to load the new comments\n",
    "\n",
    "# Extract comments\n",
    "comment_elements = driver.find_elements(By.XPATH, \"//div[contains(@class, 'review-comment')]//div[contains(@class, 'comment')]\")\n",
    "comments = []\n",
    "\n",
    "for comment_element in comment_elements:\n",
    "    comment = comment_element.text\n",
    "    comments.append(comment)\n",
    "\n",
    "# Scroll and load more comments until all comments are loaded\n",
    "while True:\n",
    "    # Scroll to the bottom of the page\n",
    "    driver.execute_script(\"window.scrollTo(0, document.body.scrollHeight);\")\n",
    "    time.sleep(2)  # Wait for the page to load the new comments\n",
    "\n",
    "    # Check if new comments are loaded\n",
    "    new_comment_elements = driver.find_elements(By.XPATH, \"//div[contains(@class, 'review-comment')]//div[contains(@class, 'comment')]\")\n",
    "    if len(new_comment_elements) == len(comment_elements):\n",
    "        break  # No new comments loaded, exit the loop\n",
    "\n",
    "    # Update comment_elements and extract new comments\n",
    "    comment_elements = new_comment_elements\n",
    "    for comment_element in comment_elements[len(comments):]:\n",
    "        comment = comment_element.text\n",
    "        comments.append(comment)\n",
    "\n",
    "print(comments[:2])"
   ]
  },
  {
   "cell_type": "code",
   "execution_count": 70,
   "metadata": {},
   "outputs": [
    {
     "name": "stdout",
     "output_type": "stream",
     "text": [
      "Comments exported to comments.csv\n"
     ]
    }
   ],
   "source": [
    "# Create a DataFrame from the comments list\n",
    "df = pd.DataFrame({'Comment': comments})\n",
    "\n",
    "# Specify the CSV file path\n",
    "csv_file = 'comments.csv'\n",
    "\n",
    "# Export the DataFrame to CSV\n",
    "df.to_csv(csv_file, index=False, encoding='utf-8')\n",
    "\n",
    "print(\"Comments exported to\", csv_file)"
   ]
  }
 ],
 "metadata": {
  "kernelspec": {
   "display_name": "Python 3",
   "language": "python",
   "name": "python3"
  },
  "language_info": {
   "codemirror_mode": {
    "name": "ipython",
    "version": 3
   },
   "file_extension": ".py",
   "mimetype": "text/x-python",
   "name": "python",
   "nbconvert_exporter": "python",
   "pygments_lexer": "ipython3",
   "version": "3.11.3"
  },
  "orig_nbformat": 4
 },
 "nbformat": 4,
 "nbformat_minor": 2
}
