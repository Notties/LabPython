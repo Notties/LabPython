{
 "cells": [
  {
   "cell_type": "code",
   "execution_count": 85,
   "metadata": {},
   "outputs": [],
   "source": [
    "import pandas as pd\n",
    "from selenium import webdriver\n",
    "from selenium.webdriver.chrome.options import Options\n",
    "from selenium.webdriver.common.keys import Keys\n",
    "from selenium.webdriver.support.ui import WebDriverWait\n",
    "from selenium.webdriver.support import expected_conditions as EC\n",
    "from selenium.common.exceptions import TimeoutException\n",
    "from selenium.common.exceptions import NoSuchElementException\n",
    "from selenium.webdriver.common.by import By\n",
    "from bs4 import BeautifulSoup\n",
    "import time\n",
    "import re"
   ]
  },
  {
   "cell_type": "code",
   "execution_count": 90,
   "metadata": {},
   "outputs": [],
   "source": [
    "driver = webdriver.Chrome(executable_path='chromedriver')\n",
    "driver.get(\"https://www.lazada.co.th/products/m209-cappuvini-i4139515884-s16234563094.html?spm=a2o4m.home.just4u.21.75317f6dPspHi4&&scm=1007.17519.162103.0&pvid=4e75f8d6-d577-495a-b564-75d45c2f3a01&search=0&clickTrackInfo=pvid%3A4e75f8d6-d577-495a-b564-75d45c2f3a01%3Bchannel_id%3A0000%3Bmt%3Ahot%3Bitem_id%3A4139515884%3Bself_ab_id%3A162103%3Bself_app_id%3A7519%3Blayer_buckets%3A5437.25236_6059.28891_955.3631_955.3632%3Bpos%3A20%3B\")\n"
   ]
  },
  {
   "cell_type": "code",
   "execution_count": 91,
   "metadata": {},
   "outputs": [
    {
     "name": "stdout",
     "output_type": "stream",
     "text": [
      "M209 Cappuvini ลิปสติก ลิปกลอสเจลลี่ ทรงสามเหลี่ยม หลอดใส\n"
     ]
    }
   ],
   "source": [
    "review_csv=[]\n",
    "date_review_csv = []\n",
    "titles = driver.find_element(By.CLASS_NAME, 'pdp-mod-product-badge-title').text\n",
    "print(titles)"
   ]
  },
  {
   "cell_type": "code",
   "execution_count": 100,
   "metadata": {},
   "outputs": [
    {
     "name": "stdout",
     "output_type": "stream",
     "text": [
      "[]\n"
     ]
    }
   ],
   "source": [
    "while True:\n",
    "    try:\n",
    "        # Wait for the dialog to appear\n",
    "        wait = WebDriverWait(driver, 10)\n",
    "        dialog = wait.until(EC.presence_of_element_located((By.CLASS_NAME, 'baxia-dialog')))\n",
    "\n",
    "        # Execute JavaScript to remove the dialog element from the DOM\n",
    "        driver.execute_script(\"arguments[0].remove()\", dialog)\n",
    "\n",
    "        # Wait for the review elements to be visible\n",
    "        WebDriverWait(driver, 10).until(EC.visibility_of_all_elements_located((By.XPATH, '//*[@id=\"module_product_review\"]/div/div/div[3]/div[1]/div[1]/div[3]/div[1]')))\n",
    "\n",
    "        # Get product reviews\n",
    "        product_reviews = driver.find_elements(By.XPATH, '//*[@id=\"module_product_review\"]/div/div/div[3]/div[1]/div[1]/div[3]/div[1]')\n",
    "\n",
    "        for product in product_reviews:\n",
    "            try:\n",
    "                # Review Comment\n",
    "                comment = product.text\n",
    "                review_csv.append(comment)\n",
    "                print(\"Review:\", comment)\n",
    "            except NoSuchElementException:\n",
    "                print(\"No date or review comment found for this product.\")\n",
    "\n",
    "        # Check for the \"next\" button\n",
    "        if len(driver.find_elements(By.CSS_SELECTOR, \"button.next-pagination-item.next[disabled]\")) > 0:\n",
    "            break\n",
    "        else:\n",
    "            button_next = WebDriverWait(driver, 10).until(EC.element_to_be_clickable(\n",
    "                (By.CSS_SELECTOR, \"button.next-pagination-item.next\")))\n",
    "            driver.execute_script(\"arguments[0].click();\", button_next)\n",
    "            print(\"Next page\")\n",
    "            time.sleep(2)\n",
    "    except TimeoutException:\n",
    "        break\n",
    "    finally:\n",
    "        # Close the browser\n",
    "        print(review_csv)\n"
   ]
  },
  {
   "cell_type": "code",
   "execution_count": 89,
   "metadata": {},
   "outputs": [
    {
     "name": "stdout",
     "output_type": "stream",
     "text": [
      "Review Comments:\n"
     ]
    }
   ],
   "source": [
    "# Print the collected review data\n",
    "print(\"Review Comments:\")\n",
    "for review in review_csv:\n",
    "    print(review)"
   ]
  }
 ],
 "metadata": {
  "kernelspec": {
   "display_name": "Python 3",
   "language": "python",
   "name": "python3"
  },
  "language_info": {
   "codemirror_mode": {
    "name": "ipython",
    "version": 3
   },
   "file_extension": ".py",
   "mimetype": "text/x-python",
   "name": "python",
   "nbconvert_exporter": "python",
   "pygments_lexer": "ipython3",
   "version": "3.11.1"
  },
  "orig_nbformat": 4
 },
 "nbformat": 4,
 "nbformat_minor": 2
}
