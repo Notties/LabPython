{
 "cells": [
  {
   "cell_type": "code",
   "execution_count": 1,
   "metadata": {},
   "outputs": [],
   "source": [
    "import pandas as pd\n",
    "import pprint\n",
    "import time\n",
    "import re\n",
    "import time\n",
    "\n",
    "from selenium import webdriver\n",
    "from selenium.webdriver.chrome.options import Options\n",
    "from selenium.webdriver.common.keys import Keys\n",
    "from selenium.webdriver.support.ui import WebDriverWait\n",
    "from selenium.webdriver.support import expected_conditions as EC\n",
    "from selenium.common.exceptions import TimeoutException\n",
    "from selenium.common.exceptions import NoSuchElementException\n",
    "from selenium.webdriver.common.by import By\n",
    "from bs4 import BeautifulSoup"
   ]
  },
  {
   "cell_type": "code",
   "execution_count": 2,
   "metadata": {},
   "outputs": [],
   "source": [
    "driver = webdriver.Chrome(executable_path='chromedriver')\n",
    "driver.get(\"https://www.cosmenet.in.th/product/13237/vaseline-healthy-bright-uv-extra-brightening-glutaglow-lotion\")\n"
   ]
  },
  {
   "cell_type": "code",
   "execution_count": 3,
   "metadata": {},
   "outputs": [],
   "source": [
    "element_review = driver.find_element(By.XPATH, \"/html/body/app-root/div/div/app-product-detail/div/div[2]/div/div[1]/div/div[2]/div\")\n",
    "driver.execute_script(\"arguments[0].click();\", element_review)"
   ]
  },
  {
   "cell_type": "code",
   "execution_count": 4,
   "metadata": {},
   "outputs": [],
   "source": [
    "# Find the <a> element\n",
    "element = driver.find_element(By.XPATH, \"//a[@class='btn btn-pink2']\")\n",
    "\n",
    "# Get the href attribute value\n",
    "href = element.get_attribute('href')\n",
    "\n",
    "# Navigate the driver to the href link\n",
    "driver.get(href)"
   ]
  },
  {
   "cell_type": "code",
   "execution_count": 5,
   "metadata": {},
   "outputs": [],
   "source": [
    "review_csv=[]"
   ]
  },
  {
   "cell_type": "code",
   "execution_count": 7,
   "metadata": {},
   "outputs": [
    {
     "name": "stdout",
     "output_type": "stream",
     "text": [
      "['ส่วนตัวใช้แล้วรู้สึกว่าขาวขึ้นค่ะ แต่ขนก็แอบยาวขึ้นด้วยไม่รู้เกี่ยวไหมแต่ เรารู้สึกว่าขนยาวขึ้นจริง ความเหนอะก็ระดับหนึ่งอาจต้องรอให้ซึมเข้าผิวสักหน่อย', 'ผิวนุ่มกระจ่างใสมากขึ้นค่ะเมื่อใช้เป็นประจำ เพราะตัวเองมีช่วงที่ผิวหมองเลยซื้อมาใช้ ผลที่ได้คือผิวกระจ่างใสขึ้นค่ะ']\n"
     ]
    }
   ],
   "source": [
    "# Scroll to the bottom of the page\n",
    "driver.execute_script(\"window.scrollTo(0, document.body.scrollHeight);\")\n",
    "time.sleep(2)  # Wait for the page to load the new comments\n",
    "\n",
    "# Extract comments\n",
    "comment_elements = driver.find_elements(By.XPATH, \"//div[contains(@class, 'review-comment')]//div[contains(@class, 'comment')]\")\n",
    "comments = []\n",
    "\n",
    "for comment_element in comment_elements:\n",
    "    comment = comment_element.text\n",
    "    comments.append(comment)\n",
    "\n",
    "# Scroll and load more comments until all comments are loaded\n",
    "while True:\n",
    "    # Scroll to the bottom of the page\n",
    "    driver.execute_script(\"window.scrollTo(0, document.body.scrollHeight);\")\n",
    "    time.sleep(2)  # Wait for the page to load the new comments\n",
    "\n",
    "    # Check if new comments are loaded\n",
    "    new_comment_elements = driver.find_elements(By.XPATH, \"//div[contains(@class, 'review-comment')]//div[contains(@class, 'comment')]\")\n",
    "    if len(new_comment_elements) == len(comment_elements):\n",
    "        break  # No new comments loaded, exit the loop\n",
    "\n",
    "    # Update comment_elements and extract new comments\n",
    "    comment_elements = new_comment_elements\n",
    "    for comment_element in comment_elements[len(comments):]:\n",
    "        comment = comment_element.text\n",
    "        comments.append(comment)\n",
    "\n",
    "print(comments[:2])"
   ]
  },
  {
   "cell_type": "code",
   "execution_count": 8,
   "metadata": {},
   "outputs": [
    {
     "name": "stdout",
     "output_type": "stream",
     "text": [
      "Comments exported to comments.csv\n"
     ]
    }
   ],
   "source": [
    "# Create a DataFrame from the comments list\n",
    "df = pd.DataFrame({'Comment': comments})\n",
    "\n",
    "# Specify the CSV file path\n",
    "csv_file = 'comments.csv'\n",
    "\n",
    "# Export the DataFrame to CSV\n",
    "df.to_csv(csv_file, index=False, encoding='utf-8')\n",
    "\n",
    "print(\"Comments exported to\", csv_file)"
   ]
  }
 ],
 "metadata": {
  "kernelspec": {
   "display_name": "Python 3",
   "language": "python",
   "name": "python3"
  },
  "language_info": {
   "codemirror_mode": {
    "name": "ipython",
    "version": 3
   },
   "file_extension": ".py",
   "mimetype": "text/x-python",
   "name": "python",
   "nbconvert_exporter": "python",
   "pygments_lexer": "ipython3",
   "version": "3.11.3"
  },
  "orig_nbformat": 4
 },
 "nbformat": 4,
 "nbformat_minor": 2
}
