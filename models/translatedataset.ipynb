{
 "cells": [
  {
   "cell_type": "code",
   "execution_count": 26,
   "metadata": {},
   "outputs": [],
   "source": [
    "import pandas as pd"
   ]
  },
  {
   "cell_type": "code",
   "execution_count": 27,
   "metadata": {},
   "outputs": [],
   "source": [
    "# Read the original dataset\n",
    "df = pd.read_csv('C:/Sentiment-Analysis-Model/datasets/datasetEN.csv')"
   ]
  },
  {
   "cell_type": "code",
   "execution_count": 28,
   "metadata": {},
   "outputs": [],
   "source": [
    "# Shuffle the dataset\n",
    "df = df.sample(frac=1, random_state=42)\n",
    "\n",
    "# Extract 15000 positive samples\n",
    "pos_samples = df[df['sentiment'] == 'positive'].sample(n=15000, random_state=42)\n",
    "\n",
    "# Extract 15000 negative samples\n",
    "neg_samples = df[df['sentiment'] == 'negative'].sample(n=15000, random_state=42)\n",
    "\n",
    "# Extract 15000 neutral samples\n",
    "neu_samples = df[df['sentiment'] == 'neutral'].sample(n=15000, random_state=42)\n",
    "\n",
    "# Concatenate the samples into a new DataFrame\n",
    "pos = pd.concat([pos_samples], ignore_index=True)\n",
    "neg = pd.concat([neg_samples], ignore_index=True)\n",
    "neu = pd.concat([neu_samples], ignore_index=True)\n",
    "\n",
    "# Save the new DataFrame to a new CSV file\n",
    "pos.to_csv('datasetEN_filtered_POS.csv', index=False)\n",
    "neg.to_csv('datasetEN_filtered_NEG.csv', index=False)\n",
    "neu.to_csv('datasetEN_filtered_NEU.csv', index=False)"
   ]
  }
 ],
 "metadata": {
  "kernelspec": {
   "display_name": "Python 3",
   "language": "python",
   "name": "python3"
  },
  "language_info": {
   "codemirror_mode": {
    "name": "ipython",
    "version": 3
   },
   "file_extension": ".py",
   "mimetype": "text/x-python",
   "name": "python",
   "nbconvert_exporter": "python",
   "pygments_lexer": "ipython3",
   "version": "3.11.1"
  },
  "orig_nbformat": 4
 },
 "nbformat": 4,
 "nbformat_minor": 2
}
