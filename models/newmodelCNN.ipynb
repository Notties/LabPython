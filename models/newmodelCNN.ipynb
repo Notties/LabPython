{
 "cells": [
  {
   "cell_type": "code",
   "execution_count": 5,
   "metadata": {},
   "outputs": [],
   "source": [
    "import pandas as pd\n",
    "import numpy as np\n",
    "import pythainlp\n",
    "import pickle\n",
    "\n",
    "from keras.callbacks import EarlyStopping\n",
    "from pythainlp.tokenize import word_tokenize\n",
    "from sklearn.model_selection import train_test_split\n",
    "from keras.preprocessing.text import Tokenizer\n",
    "from keras.models import Sequential, load_model\n",
    "from keras.layers import Dense, Embedding, Conv1D, GlobalMaxPooling1D\n",
    "from keras.utils import to_categorical, pad_sequences\n",
    "from keras.models import load_model"
   ]
  },
  {
   "cell_type": "code",
   "execution_count": 6,
   "metadata": {},
   "outputs": [],
   "source": [
    "# Set the maximum number of words to keep based on word frequency\n",
    "max_words = 10000\n",
    "\n",
    "# Define a custom tokenizer function for Thai text\n",
    "def thai_tokenizer(text):\n",
    "    return word_tokenize(text, engine='newmm')\n",
    "\n",
    "# Load the data from the CSV file\n",
    "data = pd.read_csv('C:/LabPython/datasets/dataTH.csv')\n",
    "\n",
    "# Split the data into text and labels\n",
    "x = data['text'].values\n",
    "y = data['sentiment'].values\n",
    "\n",
    "# Convert the sentiment labels to one-hot encoded vectors\n",
    "y = pd.get_dummies(y).values\n",
    "\n",
    "# Split the data into training and test sets\n",
    "x_train, x_test, y_train, y_test = train_test_split(x, y, test_size=0.2)\n",
    "\n",
    "# Define a custom tokenizer function for Thai text\n",
    "def thai_tokenizer(texts):\n",
    "    return [word_tokenize(text, engine='newmm') for text in texts]\n",
    "\n",
    "# Tokenize the text using the custom tokenizer function\n",
    "x_train = thai_tokenizer(x_train)\n",
    "x_test = thai_tokenizer(x_test)\n",
    "\n",
    "# Create the Tokenizer object without passing a custom tokenizer function\n",
    "tokenizer = Tokenizer(num_words=max_words, filters='', lower=False, oov_token='<UNK>')\n",
    "tokenizer.fit_on_texts(x_train)\n",
    "x_train = tokenizer.texts_to_sequences(x_train)\n",
    "x_test = tokenizer.texts_to_sequences(x_test)\n",
    "\n",
    "# The rest of the code remains the same\n",
    "maxlen = max([len(x) for x in x_train])\n",
    "x_train = pad_sequences(x_train, maxlen=maxlen)\n",
    "x_test = pad_sequences(x_test, maxlen=maxlen)"
   ]
  },
  {
   "cell_type": "code",
   "execution_count": 7,
   "metadata": {},
   "outputs": [
    {
     "name": "stdout",
     "output_type": "stream",
     "text": [
      "Model: \"sequential_2\"\n",
      "_________________________________________________________________\n",
      " Layer (type)                Output Shape              Param #   \n",
      "=================================================================\n",
      " embedding_2 (Embedding)     (None, 517, 64)           640000    \n",
      "                                                                 \n",
      " conv1d_2 (Conv1D)           (None, 511, 64)           28736     \n",
      "                                                                 \n",
      " global_max_pooling1d_2 (Glo  (None, 64)               0         \n",
      " balMaxPooling1D)                                                \n",
      "                                                                 \n",
      " dense_2 (Dense)             (None, 3)                 195       \n",
      "                                                                 \n",
      "=================================================================\n",
      "Total params: 668,931\n",
      "Trainable params: 668,931\n",
      "Non-trainable params: 0\n",
      "_________________________________________________________________\n",
      "None\n"
     ]
    }
   ],
   "source": [
    "# Create the model\n",
    "model = Sequential()\n",
    "model.add(Embedding(max_words, 64, input_length=maxlen))\n",
    "model.add(Conv1D(64, 7, activation='relu'))\n",
    "model.add(GlobalMaxPooling1D())\n",
    "model.add(Dense(3, activation='softmax'))\n",
    "model.compile(optimizer='adam', loss='categorical_crossentropy', metrics=['accuracy'])\n",
    "print(model.summary())"
   ]
  },
  {
   "cell_type": "code",
   "execution_count": 8,
   "metadata": {},
   "outputs": [
    {
     "name": "stdout",
     "output_type": "stream",
     "text": [
      "Epoch 1/10\n",
      "787/787 [==============================] - 20s 24ms/step - loss: 0.7992 - accuracy: 0.6312 - val_loss: 0.7004 - val_accuracy: 0.6970\n",
      "Epoch 2/10\n",
      "787/787 [==============================] - 17s 22ms/step - loss: 0.4874 - accuracy: 0.8065 - val_loss: 0.7038 - val_accuracy: 0.6900\n",
      "Epoch 3/10\n",
      "787/787 [==============================] - 17s 22ms/step - loss: 0.3179 - accuracy: 0.8779 - val_loss: 0.7521 - val_accuracy: 0.6931\n",
      "Epoch 4/10\n",
      "787/787 [==============================] - 17s 22ms/step - loss: 0.2161 - accuracy: 0.9187 - val_loss: 0.8166 - val_accuracy: 0.6884\n",
      "Epoch 4: early stopping\n"
     ]
    },
    {
     "data": {
      "text/plain": [
       "<keras.callbacks.History at 0x21c70bf7350>"
      ]
     },
     "execution_count": 8,
     "metadata": {},
     "output_type": "execute_result"
    }
   ],
   "source": [
    "# Train the model\n",
    "es = EarlyStopping(monitor='val_loss', mode='min', verbose=1, patience=3)\n",
    "model.fit(x_train, y_train, epochs=10, batch_size=16, validation_data=(x_test, y_test), callbacks=[es])\n"
   ]
  },
  {
   "cell_type": "code",
   "execution_count": 57,
   "metadata": {},
   "outputs": [],
   "source": [
    "# Save the trained model and the tokenizer to disk\n",
    "model.save('sentiment_analysis_model.h5')\n",
    "with open('tokenizer.pickle', 'wb') as handle:\n",
    "    pickle.dump(tokenizer, handle)"
   ]
  },
  {
   "cell_type": "code",
   "execution_count": null,
   "metadata": {},
   "outputs": [],
   "source": [
    "with open('tokenizer.pickle', 'rb') as handle:\n",
    "    tokenizer = pickle.load(handle)\n",
    "\n",
    "model = load_model('sentiment_analysis_modelCNN.h5')"
   ]
  },
  {
   "cell_type": "code",
   "execution_count": 58,
   "metadata": {},
   "outputs": [
    {
     "name": "stdout",
     "output_type": "stream",
     "text": [
      "1/1 [==============================] - 0s 38ms/step\n",
      "negative (99.03%)\n"
     ]
    }
   ],
   "source": [
    "# Prepare the new data for prediction\n",
    "new_text = [\"แย่\"]\n",
    "new_text = tokenizer.texts_to_sequences(new_text)\n",
    "new_text = pad_sequences(new_text, maxlen=maxlen)\n",
    "\n",
    "# Make the prediction\n",
    "prediction = model.predict(new_text)[0]\n",
    "\n",
    "# Get the predicted sentiment and confidence level\n",
    "sentiments = ['negative', 'neutral', 'positive']\n",
    "sentiment = sentiments[np.argmax(prediction)]\n",
    "confidence = np.max(prediction)\n",
    "\n",
    "# Display the result\n",
    "print(f'{sentiment} ({confidence * 100:.2f}%)')"
   ]
  }
 ],
 "metadata": {
  "kernelspec": {
   "display_name": "Python 3",
   "language": "python",
   "name": "python3"
  },
  "language_info": {
   "codemirror_mode": {
    "name": "ipython",
    "version": 3
   },
   "file_extension": ".py",
   "mimetype": "text/x-python",
   "name": "python",
   "nbconvert_exporter": "python",
   "pygments_lexer": "ipython3",
   "version": "3.11.1"
  },
  "orig_nbformat": 4
 },
 "nbformat": 4,
 "nbformat_minor": 2
}
