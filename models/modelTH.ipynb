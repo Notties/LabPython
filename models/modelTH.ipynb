{
 "cells": [
  {
   "cell_type": "code",
   "execution_count": 64,
   "metadata": {},
   "outputs": [],
   "source": [
    "import pandas as pd\n",
    "import numpy as np\n",
    "import pythainlp\n",
    "import pickle\n",
    "import tensorflow as tf\n",
    "import re\n",
    "import emoji\n",
    "import matplotlib.pyplot as plt\n",
    "import seaborn as sns\n",
    "\n",
    "from pythainlp.corpus.common import thai_stopwords\n",
    "from sklearn.model_selection import train_test_split\n",
    "from keras.preprocessing.text import Tokenizer\n",
    "from keras.models import Sequential, load_model\n",
    "from keras.layers import Dense, Embedding, Conv1D, GlobalMaxPooling1D, Dropout\n",
    "from keras.utils import pad_sequences\n",
    "from keras.models import load_model\n",
    "from sklearn.metrics import confusion_matrix\n",
    "from sklearn.metrics import precision_score, recall_score, f1_score\n",
    "\n",
    "ModelCheckpoint = tf.keras.callbacks.ModelCheckpoint\n",
    "ReduceLROnPlateau = tf.keras.callbacks.ReduceLROnPlateau"
   ]
  },
  {
   "cell_type": "code",
   "execution_count": 46,
   "metadata": {},
   "outputs": [
    {
     "name": "stdout",
     "output_type": "stream",
     "text": [
      "maxlen:  64\n"
     ]
    }
   ],
   "source": [
    "# Set the maximum number of words to keep based on word frequency\n",
    "max_words = 10000\n",
    "maxlen = 64  # Set the maximum sequence length\n",
    "# Load the data from the CSV file\n",
    "df = pd.read_csv('C:/Project-Sentiment-Analysis/Sentiment-Analysis-Model/datasets\\datasetSUMTH.csv')\n",
    "# dfpos = pd.read_csv('C:/Sentiment-Analysis-Model/datasets/datasetEN_filtered_POS.csv')\n",
    "# dfneg = pd.read_csv('C:/Sentiment-Analysis-Model/datasets/datasetEN_filtered_NEG.csv')\n",
    "# dfneu = pd.read_csv('C:/Sentiment-Analysis-Model/datasets/datasetEN_filtered_NEU.csv')\n",
    "\n",
    "# df = pd.concat([df, dfpos, dfneg, dfneu], ignore_index=True)\n",
    "\n",
    "data = df.drop_duplicates().copy()  # Make a copy of the DataFrame\n",
    "\n",
    "# Define preprocess for Thai text\n",
    "def preprocess_text(text):\n",
    "    if pd.isnull(text):  # Check if text is NaN\n",
    "        return ''\n",
    "    # tokenize the text\n",
    "    text = emoji.demojize(text)\n",
    "    text = \"\".join(u for u in text if u not in (\"?\", \".\", \";\", \":\", \"!\", '\"', \"ๆ\", \"ฯ\"))\n",
    "    text = re.sub(r'[a-zA-Z]', '', text)  # Remove English characters\n",
    "    text = \" \".join(word for word in text)\n",
    "    text = \"\".join(word for word in text.split() if word.lower() not in thai_stopwords())\n",
    "    tokens = pythainlp.word_tokenize(str(text), engine='newmm')\n",
    "    # join the tokens back into a single string\n",
    "    text = \" \".join(tokens)\n",
    "    # remove non-alphabetic characters and extra whitespaces\n",
    "    text = re.sub('[^A-Za-zก-๙]+', ' ', text).strip()\n",
    "    return text\n",
    "\n",
    "# Apply the preprocessing function to the 'text' column using loc\n",
    "data.loc[:, 'text'] = data['text'].apply(preprocess_text)\n",
    "\n",
    "# Split the data into text and labels\n",
    "x = data['text'].values\n",
    "y = data['sentiment'].values\n",
    "\n",
    "# Filter out empty texts (NaN)\n",
    "non_empty_indices = ~pd.isnull(x)\n",
    "x = x[non_empty_indices]\n",
    "y = y[non_empty_indices]\n",
    "\n",
    "# Convert the sentiment labels to one-hot encoded vectors\n",
    "y = pd.get_dummies(y).values\n",
    "\n",
    "# Split the data into training and test sets\n",
    "x_train, x_test, y_train, y_test = train_test_split(x, y, test_size=0.2)\n",
    "\n",
    "# Create the Tokenizer object without passing a custom tokenizer function\n",
    "tokenizer = Tokenizer(num_words=max_words, filters='', lower=False, oov_token='<UNK>')\n",
    "tokenizer.fit_on_texts(x_train)\n",
    "x_train = tokenizer.texts_to_sequences(x_train)\n",
    "x_test = tokenizer.texts_to_sequences(x_test)\n",
    "\n",
    "# Pad the sequences to a fixed length\n",
    "x_train = pad_sequences(x_train, maxlen=maxlen)\n",
    "x_test = pad_sequences(x_test, maxlen=maxlen)\n",
    "\n",
    "print(\"maxlen: \", maxlen)\n",
    "\n"
   ]
  },
  {
   "cell_type": "code",
   "execution_count": 47,
   "metadata": {},
   "outputs": [
    {
     "name": "stdout",
     "output_type": "stream",
     "text": [
      "Model: \"sequential_3\"\n",
      "_________________________________________________________________\n",
      " Layer (type)                Output Shape              Param #   \n",
      "=================================================================\n",
      " embedding_3 (Embedding)     (None, 64, 128)           1280000   \n",
      "                                                                 \n",
      " conv1d_3 (Conv1D)           (None, 60, 128)           82048     \n",
      "                                                                 \n",
      " global_max_pooling1d_3 (Glo  (None, 128)              0         \n",
      " balMaxPooling1D)                                                \n",
      "                                                                 \n",
      " dense_6 (Dense)             (None, 64)                8256      \n",
      "                                                                 \n",
      " dropout_3 (Dropout)         (None, 64)                0         \n",
      "                                                                 \n",
      " dense_7 (Dense)             (None, 3)                 195       \n",
      "                                                                 \n",
      "=================================================================\n",
      "Total params: 1,370,499\n",
      "Trainable params: 1,370,499\n",
      "Non-trainable params: 0\n",
      "_________________________________________________________________\n",
      "None\n"
     ]
    }
   ],
   "source": [
    "# Create the model\n",
    "model = Sequential()\n",
    "model.add(Embedding(max_words, 128, input_length=maxlen))\n",
    "model.add(Conv1D(128, 5, activation='relu'))\n",
    "model.add(GlobalMaxPooling1D())\n",
    "model.add(Dense(64, activation='relu'))\n",
    "model.add(Dropout(0.5))\n",
    "model.add(Dense(3, activation='softmax'))\n",
    "\n",
    "model.compile(optimizer='adam', loss='categorical_crossentropy', metrics=['accuracy'])\n",
    "print(model.summary())"
   ]
  },
  {
   "cell_type": "code",
   "execution_count": 48,
   "metadata": {},
   "outputs": [
    {
     "name": "stdout",
     "output_type": "stream",
     "text": [
      "Epoch 1/10\n",
      "356/357 [============================>.] - ETA: 0s - loss: 0.8069 - accuracy: 0.6352\n",
      "Epoch 1: val_loss improved from inf to 0.62315, saving model to sentiment_analysis_modelTH.h5\n",
      "357/357 [==============================] - 15s 40ms/step - loss: 0.8062 - accuracy: 0.6356 - val_loss: 0.6232 - val_accuracy: 0.7359 - lr: 0.0010\n",
      "Epoch 2/10\n",
      "356/357 [============================>.] - ETA: 0s - loss: 0.5277 - accuracy: 0.7955\n",
      "Epoch 2: val_loss improved from 0.62315 to 0.57937, saving model to sentiment_analysis_modelTH.h5\n",
      "357/357 [==============================] - 14s 38ms/step - loss: 0.5279 - accuracy: 0.7954 - val_loss: 0.5794 - val_accuracy: 0.7674 - lr: 0.0010\n",
      "Epoch 3/10\n",
      "357/357 [==============================] - ETA: 0s - loss: 0.3620 - accuracy: 0.8690\n",
      "Epoch 3: val_loss did not improve from 0.57937\n",
      "357/357 [==============================] - 14s 39ms/step - loss: 0.3620 - accuracy: 0.8690 - val_loss: 0.6167 - val_accuracy: 0.7627 - lr: 0.0010\n",
      "Epoch 4/10\n",
      "357/357 [==============================] - ETA: 0s - loss: 0.2434 - accuracy: 0.9139\n",
      "Epoch 4: val_loss did not improve from 0.57937\n",
      "357/357 [==============================] - 14s 39ms/step - loss: 0.2434 - accuracy: 0.9139 - val_loss: 0.7065 - val_accuracy: 0.7536 - lr: 0.0010\n",
      "Epoch 5/10\n",
      "357/357 [==============================] - ETA: 0s - loss: 0.1758 - accuracy: 0.9390\n",
      "Epoch 5: val_loss did not improve from 0.57937\n",
      "\n",
      "Epoch 5: ReduceLROnPlateau reducing learning rate to 0.00010000000474974513.\n",
      "357/357 [==============================] - 15s 41ms/step - loss: 0.1758 - accuracy: 0.9390 - val_loss: 0.8241 - val_accuracy: 0.7475 - lr: 0.0010\n",
      "Epoch 6/10\n",
      "357/357 [==============================] - ETA: 0s - loss: 0.1125 - accuracy: 0.9616\n",
      "Epoch 6: val_loss did not improve from 0.57937\n",
      "357/357 [==============================] - 14s 39ms/step - loss: 0.1125 - accuracy: 0.9616 - val_loss: 0.8571 - val_accuracy: 0.7589 - lr: 1.0000e-04\n",
      "Epoch 7/10\n",
      "356/357 [============================>.] - ETA: 0s - loss: 0.0991 - accuracy: 0.9672\n",
      "Epoch 7: val_loss did not improve from 0.57937\n",
      "357/357 [==============================] - 14s 39ms/step - loss: 0.0992 - accuracy: 0.9671 - val_loss: 0.8874 - val_accuracy: 0.7562 - lr: 1.0000e-04\n",
      "Epoch 8/10\n",
      "357/357 [==============================] - ETA: 0s - loss: 0.0916 - accuracy: 0.9691\n",
      "Epoch 8: val_loss did not improve from 0.57937\n",
      "\n",
      "Epoch 8: ReduceLROnPlateau reducing learning rate to 1.0000000474974514e-05.\n",
      "357/357 [==============================] - 14s 40ms/step - loss: 0.0916 - accuracy: 0.9691 - val_loss: 0.9136 - val_accuracy: 0.7531 - lr: 1.0000e-04\n",
      "Epoch 9/10\n",
      "356/357 [============================>.] - ETA: 0s - loss: 0.0836 - accuracy: 0.9725\n",
      "Epoch 9: val_loss did not improve from 0.57937\n",
      "357/357 [==============================] - 14s 39ms/step - loss: 0.0835 - accuracy: 0.9725 - val_loss: 0.9161 - val_accuracy: 0.7539 - lr: 1.0000e-05\n",
      "Epoch 10/10\n",
      "356/357 [============================>.] - ETA: 0s - loss: 0.0824 - accuracy: 0.9724\n",
      "Epoch 10: val_loss did not improve from 0.57937\n",
      "357/357 [==============================] - 14s 40ms/step - loss: 0.0824 - accuracy: 0.9724 - val_loss: 0.9210 - val_accuracy: 0.7541 - lr: 1.0000e-05\n"
     ]
    },
    {
     "data": {
      "text/plain": [
       "<keras.callbacks.History at 0x21ec5a4d150>"
      ]
     },
     "execution_count": 48,
     "metadata": {},
     "output_type": "execute_result"
    }
   ],
   "source": [
    "# Train the model\n",
    "filename = 'sentiment_analysis_modelTH.h5'\n",
    "checkpoint = ModelCheckpoint(filename, monitor='val_loss', verbose=1, save_best_only=True, mode='min')\n",
    "\n",
    "learning_rate_reduction = ReduceLROnPlateau(monitor='val_loss', patience=3, verbose=1, factor=0.1, min_lr=0.000001)\n",
    "callbacks_list = [checkpoint, learning_rate_reduction]\n",
    "\n",
    "model.fit(x_train, y_train, epochs=10, batch_size=64, validation_data=(x_test, y_test), callbacks=callbacks_list)"
   ]
  },
  {
   "cell_type": "code",
   "execution_count": 67,
   "metadata": {},
   "outputs": [
    {
     "name": "stdout",
     "output_type": "stream",
     "text": [
      "Validation Loss: 0.5793744325637817\n",
      "Validation Accuracy: 0.767437756061554\n",
      "179/179 [==============================] - 1s 6ms/step\n",
      "Class: pos\n",
      "Precision: 0.7888513513513513\n",
      "Recall: 0.7835570469798657\n",
      "F1-score: 0.7861952861952861\n",
      "\n",
      "Class: neg\n",
      "Precision: 0.7267080745341615\n",
      "Recall: 0.8630705394190872\n",
      "F1-score: 0.789041095890411\n",
      "\n",
      "Class: neu\n",
      "Precision: 0.8168389955686853\n",
      "Recall: 0.6323613493424814\n",
      "F1-score: 0.7128585240090236\n",
      "\n"
     ]
    },
    {
     "data": {
      "image/png": "[encoded data removed]",
      "text/plain": [
       "<Figure size 800x600 with 2 Axes>"
      ]
     },
     "metadata": {},
     "output_type": "display_data"
    }
   ],
   "source": [
    "# Load the best model\n",
    "model = load_model(filename)\n",
    "\n",
    "# Compute validation loss and accuracy\n",
    "val_loss, val_accuracy = model.evaluate(x_test, y_test, verbose=0)\n",
    "print(\"Validation Loss:\", val_loss)\n",
    "print(\"Validation Accuracy:\", val_accuracy)\n",
    "\n",
    "# Predict classes for test data\n",
    "y_pred = model.predict(x_test)\n",
    "predicted_classes = np.argmax(y_pred, axis=1)\n",
    "\n",
    "# Define class labels\n",
    "class_labels = ['pos', 'neg', 'neu']\n",
    "\n",
    "# Compute confusion matrix\n",
    "confusion_mat = confusion_matrix(np.argmax(y_test, axis=1), predicted_classes)\n",
    "\n",
    "# Calculate precision, recall, and F1-score\n",
    "# Get the true labels and predicted labels\n",
    "y_true = np.argmax(y_test, axis=1)\n",
    "y_pred = predicted_classes\n",
    "\n",
    "# Calculate precision for each class\n",
    "precision = precision_score(y_true, y_pred, average=None)\n",
    "\n",
    "# Calculate recall for each class\n",
    "recall = recall_score(y_true, y_pred, average=None)\n",
    "\n",
    "# Calculate F1-score for each class\n",
    "f1 = f1_score(y_true, y_pred, average=None)\n",
    "\n",
    "# Print precision, recall, and F1-score for each class\n",
    "for i in range(len(class_labels)):\n",
    "    print(f\"Class: {class_labels[i]}\")\n",
    "    print(\"Precision:\", precision[i])\n",
    "    print(\"Recall:\", recall[i])\n",
    "    print(\"F1-score:\", f1[i])\n",
    "    print()\n",
    "    \n",
    "# Plot confusion matrix\n",
    "plt.figure(figsize=(8, 6))\n",
    "sns.heatmap(confusion_mat, annot=True, fmt='d', cmap='Blues', xticklabels=class_labels, yticklabels=class_labels)\n",
    "plt.xlabel('Predicted Labels')\n",
    "plt.ylabel('True Labels')\n",
    "plt.title('Confusion Matrix')\n",
    "plt.show()"
   ]
  },
  {
   "cell_type": "code",
   "execution_count": 61,
   "metadata": {},
   "outputs": [],
   "source": [
    "# Save the trained model and the tokenizer to disk\n",
    "model.save('sentiment_analysis_modelTH.h5')\n",
    "with open('tokenizerTH.pickle', 'wb') as handle:\n",
    "    pickle.dump(tokenizer, handle)"
   ]
  },
  {
   "cell_type": "code",
   "execution_count": 62,
   "metadata": {},
   "outputs": [],
   "source": [
    "#load model and tokenizer\n",
    "with open('tokenizerTH.pickle', 'rb') as handle:\n",
    "    tokenizer = pickle.load(handle)\n",
    "\n",
    "model = load_model('sentiment_analysis_modelTH.h5')"
   ]
  },
  {
   "cell_type": "code",
   "execution_count": 63,
   "metadata": {},
   "outputs": [
    {
     "name": "stdout",
     "output_type": "stream",
     "text": [
      "new_text: อยาก ซื้อ สินค้า นี้ จัง เลย\n",
      "1/1 [==============================] - 0s 106ms/step\n",
      "Positive (80.30%)\n"
     ]
    }
   ],
   "source": [
    "new_text = 'อยากซื้อสินค้านี้จังเลย'\n",
    "new_text = preprocess_text(new_text)\n",
    "print('new_text:', new_text)\n",
    "new_text = tokenizer.texts_to_sequences([new_text])  # Convert text to sequences of integers\n",
    "new_text = pad_sequences(new_text, maxlen=maxlen)\n",
    "# Make the prediction\n",
    "prediction = model.predict(new_text)[0]\n",
    "\n",
    "# Get the predicted sentiment and confidence level\n",
    "sentiments = ['Negative', 'Neutral', 'Positive']\n",
    "sentiment = sentiments[np.argmax(prediction)]\n",
    "confidence = np.max(prediction)\n",
    "\n",
    "# Display the result\n",
    "print(f'{sentiment} ({confidence * 100:.2f}%)')"
   ]
  }
 ],
 "metadata": {
  "kernelspec": {
   "display_name": "Python 3",
   "language": "python",
   "name": "python3"
  },
  "language_info": {
   "codemirror_mode": {
    "name": "ipython",
    "version": 3
   },
   "file_extension": ".py",
   "mimetype": "text/x-python",
   "name": "python",
   "nbconvert_exporter": "python",
   "pygments_lexer": "ipython3",
   "version": "3.11.3"
  },
  "orig_nbformat": 4
 },
 "nbformat": 4,
 "nbformat_minor": 2
}
