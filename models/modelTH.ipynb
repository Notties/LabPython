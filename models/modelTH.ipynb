{
 "cells": [
  {
   "cell_type": "code",
   "execution_count": 688,
   "metadata": {},
   "outputs": [],
   "source": [
    "import pandas as pd\n",
    "import numpy as np\n",
    "import pythainlp\n",
    "import pickle\n",
    "import tensorflow as tf\n",
    "import re\n",
    "import emoji\n",
    "import matplotlib.pyplot as plt\n",
    "\n",
    "from pythainlp.corpus.common import thai_stopwords\n",
    "from sklearn.model_selection import train_test_split\n",
    "from keras.preprocessing.text import Tokenizer\n",
    "from keras.models import Sequential, load_model\n",
    "from keras.layers import Dense, Embedding, Conv1D, GlobalMaxPooling1D, Dropout\n",
    "from keras.utils import pad_sequences\n",
    "from keras.models import load_model\n",
    "from sklearn.metrics import confusion_matrix\n",
    "from sklearn.metrics import precision_score, recall_score, f1_score\n",
    "\n",
    "ModelCheckpoint = tf.keras.callbacks.ModelCheckpoint\n",
    "ReduceLROnPlateau = tf.keras.callbacks.ReduceLROnPlateau"
   ]
  },
  {
   "cell_type": "code",
   "execution_count": 685,
   "metadata": {},
   "outputs": [
    {
     "name": "stdout",
     "output_type": "stream",
     "text": [
      "['ไร อะ' 'อ้าว อยาก มีเรื่อง หรอ วะ ไอ้ หัว เกรียน' 'ขอโทษ ที่ รบกวน คะ']\n",
      "['neutral' 'negative' 'positive']\n",
      "maxlen:  128\n"
     ]
    },
    {
     "data": {
      "image/png": "[encoded data removed]",
      "text/plain": [
       "<Figure size 640x480 with 1 Axes>"
      ]
     },
     "metadata": {},
     "output_type": "display_data"
    }
   ],
   "source": [
    "# Set the maximum number of words to keep based on word frequency\n",
    "max_words = 10000\n",
    "# Load the data from the CSV file\n",
    "df = pd.read_csv('C:/Sentiment-Analysis-Model/datasets/datasetTH.csv')\n",
    "data = df.drop_duplicates().copy()  # Make a copy of the DataFrame\n",
    "\n",
    "df['sentiment'].value_counts().plot.bar()\n",
    "\n",
    "# Define preprocess for Thai text\n",
    "def preprocess_text(text):\n",
    "    # tokenize the text\n",
    "    text = emoji.demojize(text)\n",
    "    text = \"\".join(u for u in text if u not in (\"?\", \".\", \";\", \":\", \"!\", '\"', \"ๆ\", \"ฯ\"))\n",
    "    text = re.sub(r'[a-zA-Z]', '', text)  # Remove English characters\n",
    "    text = \" \".join(word for word in text)\n",
    "    text = \"\".join(word for word in text.split() if word.lower() not in thai_stopwords())\n",
    "    tokens = pythainlp.word_tokenize(str(text), engine='newmm')\n",
    "    # join the tokens back into a single string\n",
    "    text = \" \".join(tokens)\n",
    "    # remove non-alphabetic characters and extra whitespaces\n",
    "    text = re.sub('[^A-Za-zก-๙]+', ' ', text).strip()\n",
    "    return text\n",
    "\n",
    "# Apply the preprocessing function to the 'text' column using loc\n",
    "data.loc[:, 'text'] = data['text'].apply(preprocess_text)\n",
    "\n",
    "print(data['text'].values[:3])\n",
    "print(data['sentiment'].values[:3])\n",
    "\n",
    "# Split the data into text and labels\n",
    "x = data['text'].values\n",
    "y = data['sentiment'].values\n",
    "\n",
    "# Convert the sentiment labels to one-hot encoded vectors\n",
    "y = pd.get_dummies(y).values\n",
    "\n",
    "# Split the data into training and test sets\n",
    "x_train, x_test, y_train, y_test = train_test_split(x, y, test_size=0.2)\n",
    "\n",
    "# Create the Tokenizer object without passing a custom tokenizer function\n",
    "tokenizer = Tokenizer(num_words=max_words, filters='', lower=False, oov_token='<UNK>')\n",
    "tokenizer.fit_on_texts(x_train)\n",
    "x_train = tokenizer.texts_to_sequences(x_train)\n",
    "x_test = tokenizer.texts_to_sequences(x_test)\n",
    "\n",
    "# The rest of the code remains the same\n",
    "maxlen = max([len(x) for x in x_train])\n",
    "print('maxlen: ', maxlen)\n",
    "x_train = pad_sequences(x_train, maxlen=maxlen)\n",
    "x_test = pad_sequences(x_test, maxlen=maxlen)\n",
    "\n"
   ]
  },
  {
   "cell_type": "code",
   "execution_count": 691,
   "metadata": {},
   "outputs": [
    {
     "name": "stdout",
     "output_type": "stream",
     "text": [
      "Model: \"sequential_49\"\n",
      "_________________________________________________________________\n",
      " Layer (type)                Output Shape              Param #   \n",
      "=================================================================\n",
      " embedding_49 (Embedding)    (None, 128, 128)          1280000   \n",
      "                                                                 \n",
      " conv1d_52 (Conv1D)          (None, 124, 128)          82048     \n",
      "                                                                 \n",
      " global_max_pooling1d_49 (Gl  (None, 128)              0         \n",
      " obalMaxPooling1D)                                               \n",
      "                                                                 \n",
      " dense_50 (Dense)            (None, 64)                8256      \n",
      "                                                                 \n",
      " dropout_3 (Dropout)         (None, 64)                0         \n",
      "                                                                 \n",
      " dense_51 (Dense)            (None, 3)                 195       \n",
      "                                                                 \n",
      "=================================================================\n",
      "Total params: 1,370,499\n",
      "Trainable params: 1,370,499\n",
      "Non-trainable params: 0\n",
      "_________________________________________________________________\n",
      "None\n"
     ]
    }
   ],
   "source": [
    "# Create the model\n",
    "model = Sequential()\n",
    "model.add(Embedding(max_words, 128, input_length=maxlen))\n",
    "model.add(Conv1D(128, 5, activation='relu'))\n",
    "model.add(GlobalMaxPooling1D())\n",
    "model.add(Dense(64, activation='relu'))\n",
    "model.add(Dropout(0.5))\n",
    "model.add(Dense(3, activation='softmax'))\n",
    "\n",
    "model.compile(optimizer='adam', loss='categorical_crossentropy', metrics=['accuracy'])\n",
    "print(model.summary())"
   ]
  },
  {
   "cell_type": "code",
   "execution_count": 693,
   "metadata": {},
   "outputs": [
    {
     "name": "stdout",
     "output_type": "stream",
     "text": [
      "Epoch 1/5\n",
      "186/187 [============================>.] - ETA: 0s - loss: 0.7554 - accuracy: 0.6667\n",
      "Epoch 1: val_loss improved from inf to 0.73533, saving model to sentiment_analysis_model2.h5\n",
      "187/187 [==============================] - 12s 60ms/step - loss: 0.7549 - accuracy: 0.6669 - val_loss: 0.7353 - val_accuracy: 0.6905 - lr: 0.0010\n",
      "Epoch 2/5\n",
      "186/187 [============================>.] - ETA: 0s - loss: 0.5367 - accuracy: 0.7994\n",
      "Epoch 2: val_loss did not improve from 0.73533\n",
      "187/187 [==============================] - 13s 68ms/step - loss: 0.5370 - accuracy: 0.7994 - val_loss: 0.7380 - val_accuracy: 0.6744 - lr: 0.0010\n",
      "Epoch 3/5\n",
      "187/187 [==============================] - ETA: 0s - loss: 0.3873 - accuracy: 0.8594\n",
      "Epoch 3: val_loss did not improve from 0.73533\n",
      "187/187 [==============================] - 15s 79ms/step - loss: 0.3873 - accuracy: 0.8594 - val_loss: 0.8098 - val_accuracy: 0.6687 - lr: 0.0010\n",
      "Epoch 4/5\n",
      "186/187 [============================>.] - ETA: 0s - loss: 0.3015 - accuracy: 0.8941\n",
      "Epoch 4: val_loss did not improve from 0.73533\n",
      "\n",
      "Epoch 4: ReduceLROnPlateau reducing learning rate to 0.00010000000474974513.\n",
      "187/187 [==============================] - 14s 77ms/step - loss: 0.3013 - accuracy: 0.8942 - val_loss: 0.8942 - val_accuracy: 0.6539 - lr: 0.0010\n",
      "Epoch 5/5\n",
      "186/187 [============================>.] - ETA: 0s - loss: 0.2203 - accuracy: 0.9278\n",
      "Epoch 5: val_loss did not improve from 0.73533\n",
      "187/187 [==============================] - 11s 56ms/step - loss: 0.2204 - accuracy: 0.9277 - val_loss: 0.9152 - val_accuracy: 0.6486 - lr: 1.0000e-04\n"
     ]
    },
    {
     "data": {
      "text/plain": [
       "<keras.callbacks.History at 0x1e08bb44850>"
      ]
     },
     "execution_count": 693,
     "metadata": {},
     "output_type": "execute_result"
    }
   ],
   "source": [
    "# Train the model\n",
    "filename = 'sentiment_analysis_model2.h5'\n",
    "checkpoint = ModelCheckpoint(filename, monitor='val_loss', verbose=1, save_best_only=True, mode='min')\n",
    "\n",
    "learning_rate_reduction = ReduceLROnPlateau(monitor='val_loss', patience=3, verbose=1, factor=0.1, min_lr=0.000001)\n",
    "callbacks_list = [checkpoint, learning_rate_reduction]\n",
    "\n",
    "model.fit(x_train, y_train, epochs=5, batch_size=64, validation_data=(x_test, y_test), callbacks=callbacks_list)"
   ]
  },
  {
   "cell_type": "code",
   "execution_count": 694,
   "metadata": {},
   "outputs": [
    {
     "name": "stdout",
     "output_type": "stream",
     "text": [
      "Validation Loss: 0.7353342771530151\n",
      "Validation Accuracy: 0.6904761791229248\n",
      "94/94 [==============================] - 1s 8ms/step\n",
      "Confusion Matrix:\n",
      "pos: 804 pos: 116 pos: 54 \n",
      "neg: 158 neg: 857 neg: 180 \n",
      "neu: 126 neu: 289 neu: 398 \n",
      "\n",
      "Class: pos\n",
      "Precision: 0.7389705882352942\n",
      "Recall: 0.8254620123203286\n",
      "F1-score: 0.7798254122211447\n",
      "\n",
      "Class: neg\n",
      "Precision: 0.679080824088748\n",
      "Recall: 0.7171548117154811\n",
      "F1-score: 0.6975986975986975\n",
      "\n",
      "Class: neu\n",
      "Precision: 0.629746835443038\n",
      "Recall: 0.48954489544895446\n",
      "F1-score: 0.5508650519031141\n",
      "\n"
     ]
    }
   ],
   "source": [
    "# Load the best model\n",
    "model = load_model(filename)\n",
    "\n",
    "# Compute validation loss and accuracy\n",
    "val_loss, val_accuracy = model.evaluate(x_test, y_test, verbose=0)\n",
    "print(\"Validation Loss:\", val_loss)\n",
    "print(\"Validation Accuracy:\", val_accuracy)\n",
    "\n",
    "# Predict classes for test data\n",
    "y_pred = model.predict(x_test)\n",
    "predicted_classes = np.argmax(y_pred, axis=1)\n",
    "\n",
    "# Define class labels\n",
    "class_labels = ['pos', 'neg', 'neu']\n",
    "\n",
    "# Compute confusion matrix\n",
    "confusion_mat = confusion_matrix(np.argmax(y_test, axis=1), predicted_classes)\n",
    "\n",
    "# Print confusion matrix with class labels\n",
    "print(\"Confusion Matrix:\")\n",
    "for i in range(len(class_labels)):\n",
    "    label_row = \"\"\n",
    "    for j in range(len(class_labels)):\n",
    "        label_row += f\"{class_labels[i]}: {confusion_mat[i][j]} \"\n",
    "    print(label_row)\n",
    "    \n",
    "print()\n",
    "\n",
    "# Calculate precision, recall, and F1-score\n",
    "# Get the true labels and predicted labels\n",
    "y_true = np.argmax(y_test, axis=1)\n",
    "y_pred = predicted_classes\n",
    "\n",
    "# Calculate precision for each class\n",
    "precision = precision_score(y_true, y_pred, average=None)\n",
    "\n",
    "# Calculate recall for each class\n",
    "recall = recall_score(y_true, y_pred, average=None)\n",
    "\n",
    "# Calculate F1-score for each class\n",
    "f1 = f1_score(y_true, y_pred, average=None)\n",
    "\n",
    "# Print precision, recall, and F1-score for each class\n",
    "for i in range(len(class_labels)):\n",
    "    print(f\"Class: {class_labels[i]}\")\n",
    "    print(\"Precision:\", precision[i])\n",
    "    print(\"Recall:\", recall[i])\n",
    "    print(\"F1-score:\", f1[i])\n",
    "    print()"
   ]
  },
  {
   "cell_type": "code",
   "execution_count": 720,
   "metadata": {},
   "outputs": [],
   "source": [
    "# Save the trained model and the tokenizer to disk\n",
    "model.save('sentiment_analysis_model.h5')\n",
    "with open('tokenizer.pickle', 'wb') as handle:\n",
    "    pickle.dump(tokenizer, handle)"
   ]
  },
  {
   "cell_type": "code",
   "execution_count": 721,
   "metadata": {},
   "outputs": [],
   "source": [
    "#load model and tokenizer\n",
    "with open('tokenizer.pickle', 'rb') as handle:\n",
    "    tokenizer = pickle.load(handle)\n",
    "\n",
    "model = load_model('sentiment_analysis_model.h5')"
   ]
  },
  {
   "cell_type": "code",
   "execution_count": 730,
   "metadata": {},
   "outputs": [
    {
     "name": "stdout",
     "output_type": "stream",
     "text": [
      "new_text: แก้ไข ด้วย อัพเดท แล้ว ค้าง\n",
      "1/1 [==============================] - 0s 62ms/step\n",
      "Negative (50.25%)\n"
     ]
    }
   ],
   "source": [
    "new_text = 'แก้ไขด้วยอัพเดทแล้วค้าง'\n",
    "new_text = preprocess_text(new_text)\n",
    "print('new_text:', new_text)\n",
    "new_text = tokenizer.texts_to_sequences([new_text])  # Convert text to sequences of integers\n",
    "new_text = pad_sequences(new_text, maxlen=maxlen)\n",
    "# Make the prediction\n",
    "prediction = model.predict(new_text)[0]\n",
    "\n",
    "# Get the predicted sentiment and confidence level\n",
    "sentiments = ['Negative', 'Neutral', 'Positive']\n",
    "sentiment = sentiments[np.argmax(prediction)]\n",
    "confidence = np.max(prediction)\n",
    "\n",
    "# Display the result\n",
    "print(f'{sentiment} ({confidence * 100:.2f}%)')"
   ]
  }
 ],
 "metadata": {
  "kernelspec": {
   "display_name": "Python 3",
   "language": "python",
   "name": "python3"
  },
  "language_info": {
   "codemirror_mode": {
    "name": "ipython",
    "version": 3
   },
   "file_extension": ".py",
   "mimetype": "text/x-python",
   "name": "python",
   "nbconvert_exporter": "python",
   "pygments_lexer": "ipython3",
   "version": "3.11.1"
  },
  "orig_nbformat": 4
 },
 "nbformat": 4,
 "nbformat_minor": 2
}
