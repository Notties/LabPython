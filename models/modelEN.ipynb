{
 "cells": [
  {
   "cell_type": "code",
   "execution_count": 11,
   "metadata": {},
   "outputs": [],
   "source": [
    "import pandas as pd\n",
    "import numpy as np\n",
    "import nltk\n",
    "import pickle\n",
    "import re\n",
    "import emoji\n",
    "\n",
    "from nltk.corpus import stopwords\n",
    "from sklearn.model_selection import train_test_split\n",
    "from keras.preprocessing.text import Tokenizer\n",
    "from keras.utils import to_categorical\n",
    "from keras.models import Sequential, load_model\n",
    "from keras.layers import Dense, Embedding, Conv1D, GlobalMaxPooling1D, Dropout\n",
    "from keras.utils import pad_sequences\n",
    "from keras.callbacks import ModelCheckpoint, ReduceLROnPlateau\n",
    "from sklearn.metrics import confusion_matrix, precision_score, recall_score, f1_score\n",
    "from sklearn.preprocessing import LabelEncoder"
   ]
  },
  {
   "cell_type": "code",
   "execution_count": 5,
   "metadata": {},
   "outputs": [
    {
     "name": "stderr",
     "output_type": "stream",
     "text": [
      "[nltk_data] Downloading package stopwords to\n",
      "[nltk_data]     C:\\Users\\aktha\\AppData\\Roaming\\nltk_data...\n",
      "[nltk_data]   Package stopwords is already up-to-date!\n"
     ]
    },
    {
     "data": {
      "text/plain": [
       "True"
      ]
     },
     "execution_count": 5,
     "metadata": {},
     "output_type": "execute_result"
    }
   ],
   "source": [
    "# Download the stopwords for English language\n",
    "# nltk.download('stopwords')"
   ]
  },
  {
   "cell_type": "code",
   "execution_count": 12,
   "metadata": {},
   "outputs": [
    {
     "name": "stdout",
     "output_type": "stream",
     "text": [
      "maxlen: 129\n"
     ]
    }
   ],
   "source": [
    "# Set the maximum number of words to keep based on word frequency\n",
    "max_words = 10000\n",
    "\n",
    "# Set random seed for reproducibility\n",
    "np.random.seed(42)\n",
    "\n",
    "# Load the data from the CSV file\n",
    "df = pd.read_csv('C:/Sentiment-Analysis-Model/datasets/datasetEN.csv')\n",
    "\n",
    "# Drop duplicates and make a copy of the DataFrame\n",
    "df = df.drop_duplicates().copy()\n",
    "\n",
    "# Preprocess the text\n",
    "def preprocess_text(text):\n",
    "    # Check if text is not null\n",
    "    if isinstance(text, str):\n",
    "        # Remove special characters and convert to lowercase\n",
    "        text = re.sub(r\"[^a-zA-Z0-9]\", \" \", text.lower())\n",
    "        # Tokenize the text\n",
    "        tokens = nltk.word_tokenize(text)\n",
    "        # Remove stopwords\n",
    "        stop_words = set(stopwords.words('english'))\n",
    "        tokens = [token for token in tokens if token not in stop_words]\n",
    "        # Join tokens back into a string\n",
    "        text = \" \".join(tokens)\n",
    "    return text\n",
    "\n",
    "# Apply preprocessing to the text column\n",
    "df['text'] = df['text'].apply(preprocess_text)\n",
    "\n",
    "# Remove rows with null values in 'text' column\n",
    "df = df.dropna(subset=['text'])\n",
    "\n",
    "# Split the data into text and labels\n",
    "x = df['text'].values\n",
    "y = df['sentiment'].values\n",
    "\n",
    "# Convert the labels using LabelEncoder\n",
    "label_encoder = LabelEncoder()\n",
    "y = label_encoder.fit_transform(y)\n",
    "\n",
    "# Split the data into training and test sets\n",
    "x_train, x_test, y_train, y_test = train_test_split(x, y, test_size=0.2, random_state=42)\n",
    "\n",
    "# Convert the labels to one-hot encoded vectors\n",
    "num_classes = len(label_encoder.classes_)\n",
    "y_train = to_categorical(y_train, num_classes)\n",
    "y_test = to_categorical(y_test, num_classes)\n",
    "\n",
    "# Tokenize the text\n",
    "tokenizer = Tokenizer(num_words=max_words)\n",
    "tokenizer.fit_on_texts(x_train)\n",
    "x_train = tokenizer.texts_to_sequences(x_train)\n",
    "x_test = tokenizer.texts_to_sequences(x_test)\n",
    "\n",
    "# Get the maximum sequence length\n",
    "maxlen = max(len(x) for x in x_train)\n",
    "print('maxlen:', maxlen)\n",
    "# Pad sequences to have the same length\n",
    "x_train = pad_sequences(x_train, maxlen=maxlen)\n",
    "x_test = pad_sequences(x_test, maxlen=maxlen)"
   ]
  },
  {
   "cell_type": "code",
   "execution_count": 13,
   "metadata": {},
   "outputs": [
    {
     "data": {
      "text/plain": [
       "<Axes: >"
      ]
     },
     "execution_count": 13,
     "metadata": {},
     "output_type": "execute_result"
    },
    {
     "data": {
      "image/png": "[encoded data removed]",
      "text/plain": [
       "<Figure size 640x480 with 1 Axes>"
      ]
     },
     "metadata": {},
     "output_type": "display_data"
    }
   ],
   "source": [
    "df['sentiment'].value_counts().plot.bar()"
   ]
  },
  {
   "cell_type": "code",
   "execution_count": 14,
   "metadata": {},
   "outputs": [
    {
     "name": "stdout",
     "output_type": "stream",
     "text": [
      "Model: \"sequential\"\n",
      "_________________________________________________________________\n",
      " Layer (type)                Output Shape              Param #   \n",
      "=================================================================\n",
      " embedding (Embedding)       (None, 129, 128)          1280000   \n",
      "                                                                 \n",
      " conv1d (Conv1D)             (None, 125, 128)          82048     \n",
      "                                                                 \n",
      " global_max_pooling1d (Globa  (None, 128)              0         \n",
      " lMaxPooling1D)                                                  \n",
      "                                                                 \n",
      " dense (Dense)               (None, 64)                8256      \n",
      "                                                                 \n",
      " dropout (Dropout)           (None, 64)                0         \n",
      "                                                                 \n",
      " dense_1 (Dense)             (None, 3)                 195       \n",
      "                                                                 \n",
      "=================================================================\n",
      "Total params: 1,370,499\n",
      "Trainable params: 1,370,499\n",
      "Non-trainable params: 0\n",
      "_________________________________________________________________\n",
      "None\n"
     ]
    }
   ],
   "source": [
    "# Define the model\n",
    "model = Sequential()\n",
    "model.add(Embedding(max_words, 128, input_length=maxlen))\n",
    "model.add(Conv1D(128, 5, activation='relu'))\n",
    "model.add(GlobalMaxPooling1D())\n",
    "model.add(Dense(64, activation='relu'))\n",
    "model.add(Dropout(0.5))\n",
    "model.add(Dense(len(set(df['sentiment'])), activation='softmax'))\n",
    "\n",
    "model.compile(optimizer='adam', loss='categorical_crossentropy', metrics=['accuracy'])\n",
    "print(model.summary())"
   ]
  },
  {
   "cell_type": "code",
   "execution_count": 15,
   "metadata": {},
   "outputs": [
    {
     "name": "stdout",
     "output_type": "stream",
     "text": [
      "Epoch 1/5\n",
      "5690/5690 [==============================] - ETA: 0s - loss: 0.1491 - accuracy: 0.9367\n",
      "Epoch 1: val_loss improved from inf to 0.09992, saving model to sentiment_analysis_modelEN.h5\n",
      "5690/5690 [==============================] - 255s 45ms/step - loss: 0.1491 - accuracy: 0.9367 - val_loss: 0.0999 - val_accuracy: 0.9569 - lr: 0.0010\n",
      "Epoch 2/5\n",
      "5689/5690 [============================>.] - ETA: 0s - loss: 0.0754 - accuracy: 0.9679\n",
      "Epoch 2: val_loss improved from 0.09992 to 0.08417, saving model to sentiment_analysis_modelEN.h5\n",
      "5690/5690 [==============================] - 264s 46ms/step - loss: 0.0754 - accuracy: 0.9679 - val_loss: 0.0842 - val_accuracy: 0.9654 - lr: 0.0010\n",
      "Epoch 3/5\n",
      "5690/5690 [==============================] - ETA: 0s - loss: 0.0490 - accuracy: 0.9779\n",
      "Epoch 3: val_loss improved from 0.08417 to 0.07787, saving model to sentiment_analysis_modelEN.h5\n",
      "5690/5690 [==============================] - 247s 43ms/step - loss: 0.0490 - accuracy: 0.9779 - val_loss: 0.0779 - val_accuracy: 0.9685 - lr: 0.0010\n",
      "Epoch 4/5\n",
      "5689/5690 [============================>.] - ETA: 0s - loss: 0.0382 - accuracy: 0.9815\n",
      "Epoch 4: val_loss did not improve from 0.07787\n",
      "5690/5690 [==============================] - 249s 44ms/step - loss: 0.0382 - accuracy: 0.9815 - val_loss: 0.0810 - val_accuracy: 0.9699 - lr: 0.0010\n",
      "Epoch 5/5\n",
      "5690/5690 [==============================] - ETA: 0s - loss: 0.0320 - accuracy: 0.9840\n",
      "Epoch 5: val_loss did not improve from 0.07787\n",
      "5690/5690 [==============================] - 250s 44ms/step - loss: 0.0320 - accuracy: 0.9840 - val_loss: 0.1141 - val_accuracy: 0.9685 - lr: 0.0010\n"
     ]
    },
    {
     "data": {
      "text/plain": [
       "<keras.callbacks.History at 0x1a0df82bc50>"
      ]
     },
     "execution_count": 15,
     "metadata": {},
     "output_type": "execute_result"
    }
   ],
   "source": [
    "# Define callbacks\n",
    "filename = 'sentiment_analysis_modelEN.h5'\n",
    "checkpoint = ModelCheckpoint(filename, monitor='val_loss', verbose=1, save_best_only=True, mode='min')\n",
    "learning_rate_reduction = ReduceLROnPlateau(monitor='val_loss', patience=3, verbose=1, factor=0.1, min_lr=0.000001)\n",
    "callbacks = [checkpoint, learning_rate_reduction]\n",
    "\n",
    "# Train the model\n",
    "model.fit(x_train, y_train, epochs=5, batch_size=64, validation_data=(x_test, y_test), callbacks=callbacks)"
   ]
  },
  {
   "cell_type": "code",
   "execution_count": 16,
   "metadata": {},
   "outputs": [
    {
     "name": "stdout",
     "output_type": "stream",
     "text": [
      "Test Loss: 0.0778680145740509\n",
      "Test Accuracy: 0.9685041904449463\n",
      "2845/2845 [==============================] - 15s 5ms/step\n",
      "Confusion Matrix:\n",
      "[[47086   238   541]\n",
      " [  254  3079   203]\n",
      " [ 1374   257 37996]]\n",
      "Class: neutral\n",
      "Precision: 0.9665804491521944\n",
      "Recall: 0.9837250600647655\n",
      "F1-score: 0.9750773977779849\n",
      "\n",
      "Class: negative\n",
      "Precision: 0.8614997202014549\n",
      "Recall: 0.8707579185520362\n",
      "F1-score: 0.8661040787623066\n",
      "\n",
      "Class: positive\n",
      "Precision: 0.9807950438822922\n",
      "Recall: 0.9588411941353118\n",
      "F1-score: 0.9696938762489313\n",
      "\n"
     ]
    }
   ],
   "source": [
    "# Load the best model\n",
    "model = load_model(filename)\n",
    "\n",
    "# Evaluate the model\n",
    "loss, accuracy = model.evaluate(x_test, y_test, verbose=0)\n",
    "print(\"Test Loss:\", loss)\n",
    "print(\"Test Accuracy:\", accuracy)\n",
    "\n",
    "# Predict classes for test data\n",
    "y_pred = model.predict(x_test)\n",
    "predicted_classes = np.argmax(y_pred, axis=1)\n",
    "\n",
    "# Compute confusion matrix\n",
    "confusion_mat = confusion_matrix(np.argmax(y_test, axis=1), predicted_classes)\n",
    "print(\"Confusion Matrix:\")\n",
    "print(confusion_mat)\n",
    "\n",
    "# Calculate precision, recall, and F1-score\n",
    "precision = precision_score(np.argmax(y_test, axis=1), predicted_classes, average=None)\n",
    "recall = recall_score(np.argmax(y_test, axis=1), predicted_classes, average=None)\n",
    "f1 = f1_score(np.argmax(y_test, axis=1), predicted_classes, average=None)\n",
    "\n",
    "# Print precision, recall, and F1-score for each class\n",
    "for i, label in enumerate(set(df['sentiment'])):\n",
    "    print(f\"Class: {label}\")\n",
    "    print(\"Precision:\", precision[i])\n",
    "    print(\"Recall:\", recall[i])\n",
    "    print(\"F1-score:\", f1[i])\n",
    "    print()"
   ]
  },
  {
   "cell_type": "code",
   "execution_count": 17,
   "metadata": {},
   "outputs": [],
   "source": [
    "# Save the trained model and the tokenizer to disk\n",
    "model.save('sentiment_analysis_modelEN.h5')\n",
    "with open('tokenizerEN.pickle', 'wb') as handle:\n",
    "    pickle.dump(tokenizer, handle)"
   ]
  },
  {
   "cell_type": "code",
   "execution_count": 13,
   "metadata": {},
   "outputs": [],
   "source": [
    "# Load model and tokenizer\n",
    "with open('tokenizerEN.pickle', 'rb') as handle:\n",
    "    tokenizer = pickle.load(handle)\n",
    "\n",
    "model = load_model('sentiment_analysis_modelEN.h5')"
   ]
  },
  {
   "cell_type": "code",
   "execution_count": 66,
   "metadata": {},
   "outputs": [
    {
     "name": "stdout",
     "output_type": "stream",
     "text": [
      "new_text: traffic morning annoying late work\n",
      "1/1 [==============================] - 0s 79ms/step\n",
      "Negative (98.86%)\n"
     ]
    }
   ],
   "source": [
    "new_text = 'The traffic this morning was so annoying, and I was late for work'\n",
    "new_text = preprocess_text(new_text)\n",
    "print('new_text:', new_text)\n",
    "new_text = tokenizer.texts_to_sequences([new_text])  # Convert text to sequences of integers\n",
    "new_text = pad_sequences(new_text, maxlen=maxlen)\n",
    "# Make the prediction\n",
    "prediction = model.predict(new_text)[0]\n",
    "\n",
    "# Get the predicted sentiment and confidence level\n",
    "sentiments = ['Negative', 'Neutral', 'Positive']\n",
    "sentiment = sentiments[np.argmax(prediction)]\n",
    "confidence = np.max(prediction)\n",
    "\n",
    "# Display the result\n",
    "print(f'{sentiment} ({confidence * 100:.2f}%)')"
   ]
  }
 ],
 "metadata": {
  "kernelspec": {
   "display_name": "Python 3",
   "language": "python",
   "name": "python3"
  },
  "language_info": {
   "codemirror_mode": {
    "name": "ipython",
    "version": 3
   },
   "file_extension": ".py",
   "mimetype": "text/x-python",
   "name": "python",
   "nbconvert_exporter": "python",
   "pygments_lexer": "ipython3",
   "version": "3.11.1"
  },
  "orig_nbformat": 4
 },
 "nbformat": 4,
 "nbformat_minor": 2
}
